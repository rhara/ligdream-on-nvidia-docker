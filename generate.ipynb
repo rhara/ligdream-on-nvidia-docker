{
 "cells": [
  {
   "cell_type": "code",
   "execution_count": null,
   "metadata": {},
   "outputs": [],
   "source": [
    "# Copyright (C) 2019 Computational Science Lab, UPF <http://www.compscience.org/>\n",
    "# Copying and distribution is allowed under AGPLv3 license\n",
    "\n",
    "from ligdream import CompoundGenerator\n",
    "import os\n",
    "import torch\n",
    "\n",
    "%matplotlib inline\n",
    "from rdkit import Chem\n",
    "from rdkit.Chem.Draw import IPythonConsole"
   ]
  },
  {
   "cell_type": "code",
   "execution_count": null,
   "metadata": {},
   "outputs": [],
   "source": [
    "my_gen = CompoundGenerator(use_cuda=True)  # set use_cuda=False if you do not have a GPU."
   ]
  },
  {
   "cell_type": "code",
   "execution_count": null,
   "metadata": {},
   "outputs": [],
   "source": [
    "# Load the weights of the models\n",
    "\n",
    "def home():\n",
    "    return '/root/ligdream'\n",
    "\n",
    "vae_weights =  os.path.join(home(), \"modelweights/vae-210000.pkl\")\n",
    "encoder_weights =  os.path.join(home(), \"modelweights/encoder-210000.pkl\")\n",
    "decoder_weights =os.path.join(home(), \"modelweights/decoder-210000.pkl\")\n",
    "\n",
    "my_gen.load_weight(vae_weights, encoder_weights, decoder_weights)"
   ]
  },
  {
   "cell_type": "code",
   "execution_count": null,
   "metadata": {},
   "outputs": [],
   "source": [
    "seed_mol = \"CN(C)Cc1ccc(CNC(=S)Nc2ccc(N)cc2)cc1\"\n",
    "\n",
    "gen_mols = my_gen.generate_molecules(seed_mol,\n",
    "                                     n_attemps=20,  # How many attemps of generations will be carried out\n",
    "                                     lam_fact=1.,  # Variability factor\n",
    "                                     probab=False,  # Probabilistic RNN decoding\n",
    "                                     filter_unique_valid=False)  # Filter out invalids and replicates"
   ]
  },
  {
   "cell_type": "code",
   "execution_count": null,
   "metadata": {},
   "outputs": [],
   "source": [
    "# Seed molecule\n",
    "Chem.MolFromSmiles(seed_mol)"
   ]
  },
  {
   "cell_type": "code",
   "execution_count": null,
   "metadata": {},
   "outputs": [],
   "source": [
    "# Generated Molecules\n",
    "Chem.Draw.MolsToGridImage(gen_mols)"
   ]
  },
  {
   "cell_type": "code",
   "execution_count": null,
   "metadata": {},
   "outputs": [],
   "source": []
  }
 ],
 "metadata": {
  "kernelspec": {
   "display_name": "Python 3",
   "language": "python",
   "name": "python3"
  },
  "language_info": {
   "codemirror_mode": {
    "name": "ipython",
    "version": 3
   },
   "file_extension": ".py",
   "mimetype": "text/x-python",
   "name": "python",
   "nbconvert_exporter": "python",
   "pygments_lexer": "ipython3",
   "version": "3.5.6"
  }
 },
 "nbformat": 4,
 "nbformat_minor": 2
}
